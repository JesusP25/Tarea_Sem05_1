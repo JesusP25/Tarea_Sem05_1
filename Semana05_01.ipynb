{
  "cells": [
    {
      "cell_type": "markdown",
      "metadata": {
        "id": "MYRZPrmX0BZ7"
      },
      "source": [
        "[texto del vínculo](https://)# SEMANA 05 - Lunes 29 / 04 / 2024\n",
        "\n",
        "# Mg. Flor Elizabeth Cerdán León"
      ]
    },
    {
      "cell_type": "markdown",
      "metadata": {
        "id": "h8NAZbLx0BaA"
      },
      "source": [
        "Temas\n",
        "1. Colecciones de datos\n",
        "2. Estructuras Decisivas y Estructuras Repetitivas\n",
        "3. Clases y Objetos\n",
        "4. Funciones"
      ]
    },
    {
      "cell_type": "markdown",
      "metadata": {
        "id": "9EV3FCEd0BaC"
      },
      "source": [
        "1. Colecciones"
      ]
    },
    {
      "cell_type": "markdown",
      "source": [
        "      LISTAS"
      ],
      "metadata": {
        "id": "TepfoHB7MeIA"
      }
    },
    {
      "cell_type": "code",
      "execution_count": 10,
      "metadata": {
        "id": "l6mc6QXB0BaC",
        "outputId": "bee9fc5a-af4c-47dd-d0c2-33232ff6f346",
        "colab": {
          "base_uri": "https://localhost:8080/"
        }
      },
      "outputs": [
        {
          "output_type": "stream",
          "name": "stdout",
          "text": [
            "En el salon se encuentra los elementos de: \n",
            "['Plumón', 'Escritorio', 'Silla', 'Pizarra', 'Mesa']\n"
          ]
        }
      ],
      "source": [
        "# 1.1. Listas\n",
        "# Es una colección de elementos que puede ser ordenada, modificada, etc..\n",
        "# Se identifica por los corchetes\n",
        "\n",
        "# Ejemplo:\n",
        "salon = [\"Plumón\",\"Escritorio\",\"Silla\",\"Pizarra\",\"Mesa\"]\n",
        "\n",
        "# Imprimimos\n",
        "print(\"En el salon se encuentra los elementos de: \")\n",
        "print(salon)"
      ]
    },
    {
      "cell_type": "code",
      "execution_count": 11,
      "metadata": {
        "id": "6ccd7Mxa0BaG",
        "outputId": "bffc62c8-32a7-4724-e223-130b20ad5440",
        "colab": {
          "base_uri": "https://localhost:8080/"
        }
      },
      "outputs": [
        {
          "output_type": "execute_result",
          "data": {
            "text/plain": [
              "['Plumón', 'Escritorio', 'Silla', 'Pizarra', 'Mesa']"
            ]
          },
          "metadata": {},
          "execution_count": 11
        }
      ],
      "source": [
        "# Tambien se puede imprimir con solo mencional la lista\n",
        "# No es necesario usar --> print()\n",
        "\n",
        "# Indicamos el nombre de la lista que hemos creado\n",
        "salon"
      ]
    },
    {
      "cell_type": "code",
      "execution_count": 12,
      "metadata": {
        "id": "YyXO1XTA0BaH",
        "outputId": "6f65bd2b-75d9-459b-c485-dc44979d4d8f",
        "colab": {
          "base_uri": "https://localhost:8080/"
        }
      },
      "outputs": [
        {
          "output_type": "stream",
          "name": "stdout",
          "text": [
            "La lista creada es:  ['Plumón', 'Escritorio', 'Silla', 'Pizarra', 'Mesa']\n",
            "\n",
            "Indicamos la posición 1:  Plumón\n",
            "Indicamos la posicion 2:  Escritorio\n",
            "Indicamos la posicion 3 la cual es 'Silla' , veamos: Silla\n"
          ]
        }
      ],
      "source": [
        "# Podemos extraer cada elemento por su posición\n",
        "# Siempre se cuenta desde la posicion 0\n",
        "\n",
        "# Imprimimos la lista creada\n",
        "print(\"La lista creada es: \", salon)\n",
        "\n",
        "print(\"\\nIndicamos la posición 1: \" , salon[0])\n",
        "print(\"Indicamos la posicion 2: \" , salon[1])\n",
        "print(f\"Indicamos la posicion 3 la cual es 'Silla' , veamos: {salon[2]}\")"
      ]
    },
    {
      "cell_type": "markdown",
      "source": [
        "    REEMPLAZAR UN ELEMENTO DE LA LISTA"
      ],
      "metadata": {
        "id": "i5Bs_Q3kblPt"
      }
    },
    {
      "cell_type": "code",
      "execution_count": 13,
      "metadata": {
        "id": "-X8T42qR0BaI",
        "outputId": "0f714511-f768-49af-edf3-2cb282d35da0",
        "colab": {
          "base_uri": "https://localhost:8080/",
          "height": 36
        }
      },
      "outputs": [
        {
          "output_type": "execute_result",
          "data": {
            "text/plain": [
              "'Computadora'"
            ],
            "application/vnd.google.colaboratory.intrinsic+json": {
              "type": "string"
            }
          },
          "metadata": {},
          "execution_count": 13
        }
      ],
      "source": [
        "# Reemplazamos un elemento de la lista\n",
        "# Puedo asignar un valor a una posición de la lista\n",
        "\n",
        "# En la posición 2 vamos a REEMPLAZAR 'Escritorio' por 'Computadora'\n",
        "\n",
        "salon[1] = 'Computadora'\n",
        "salon[1]"
      ]
    },
    {
      "cell_type": "code",
      "execution_count": 14,
      "metadata": {
        "id": "J-QQJAUB0BaJ",
        "outputId": "c1979744-07e8-4c7a-92b9-9d14c4c3be16",
        "colab": {
          "base_uri": "https://localhost:8080/"
        }
      },
      "outputs": [
        {
          "output_type": "stream",
          "name": "stdout",
          "text": [
            "La lista actualizada es: ['Plumón', 'Computadora', 'Silla', 'Pizarra', 'Mesa']\n"
          ]
        }
      ],
      "source": [
        "# Imrpimimos la lista ACTUALIZADA\n",
        "print(f\"La lista actualizada es: {salon}\")"
      ]
    },
    {
      "cell_type": "markdown",
      "source": [
        "    AGREGAR UN ELEMENTO A LA LISTA"
      ],
      "metadata": {
        "id": "vBMZhrZ7cNZL"
      }
    },
    {
      "cell_type": "code",
      "source": [
        "# Para agregar un elemento utilizamos append\n",
        "\n",
        "# CUANDO AGREGAMOS, EL ELEMENTO AGREGADO SE COLOCA AUTOMATICAMENTE AL FINAL\n",
        "\n",
        "# Agregamos PUPITRE\n",
        "salon.append(\"PUPITRE\")\n",
        "\n",
        "# Imprimimos\n",
        "print(\"La lista actualizada con el elemento agregado es: \")\n",
        "print(salon)"
      ],
      "metadata": {
        "colab": {
          "base_uri": "https://localhost:8080/"
        },
        "id": "IvjCuCPp99_h",
        "outputId": "24dabf74-af7b-4341-c626-c6685533fc71"
      },
      "execution_count": 22,
      "outputs": [
        {
          "output_type": "stream",
          "name": "stdout",
          "text": [
            "La lista actualizada con el elemento agregado es: \n",
            "['Plumón', 'Computadora', 'Silla', 'Pizarra', 'Mesa', 'Proyector', 'PUPITRE', 'PUPITRE', 'PUPITRE']\n"
          ]
        }
      ]
    },
    {
      "cell_type": "code",
      "source": [
        "# Volvemos a agregar otro elemento\n",
        "\n",
        "salon.append(\"Proyector\")\n",
        "\n",
        "# Imprimimos\n",
        "print(\"El elemento agregado es: \")\n",
        "print(salon)"
      ],
      "metadata": {
        "colab": {
          "base_uri": "https://localhost:8080/"
        },
        "id": "8PaKC8aI_fDp",
        "outputId": "362f17a9-9839-41c1-c696-c9a1c8a805b7"
      },
      "execution_count": 23,
      "outputs": [
        {
          "output_type": "stream",
          "name": "stdout",
          "text": [
            "El elemento agregado es: \n",
            "['Plumón', 'Computadora', 'Silla', 'Pizarra', 'Mesa', 'Proyector', 'PUPITRE', 'PUPITRE', 'PUPITRE', 'Proyector']\n"
          ]
        }
      ]
    },
    {
      "cell_type": "markdown",
      "source": [
        "      ELIMINAR UN ELEMENTO DE LA LISTA"
      ],
      "metadata": {
        "id": "LrSNExmiMuRX"
      }
    },
    {
      "cell_type": "code",
      "execution_count": 24,
      "metadata": {
        "id": "-hkIOI0Z0BaM",
        "outputId": "82b5c6a5-b943-4335-e71c-7cfeaf36eba4",
        "colab": {
          "base_uri": "https://localhost:8080/"
        }
      },
      "outputs": [
        {
          "output_type": "stream",
          "name": "stdout",
          "text": [
            "La lista actualizada es: \n",
            "['Plumón', 'Computadora', 'Silla', 'Pizarra', 'Mesa', 'Proyector', 'PUPITRE', 'PUPITRE', 'Proyector']\n"
          ]
        }
      ],
      "source": [
        "# Para eliminar elementos utilizamos remove[]\n",
        "salon.remove(\"PUPITRE\")\n",
        "\n",
        "# Imprimimos\n",
        "print(\"La lista actualizada es: \")\n",
        "print(salon)"
      ]
    },
    {
      "cell_type": "code",
      "execution_count": 25,
      "metadata": {
        "id": "yMcKNx6k0BaN",
        "outputId": "befbf20f-320b-429a-f4b8-c951a5d34ed7",
        "colab": {
          "base_uri": "https://localhost:8080/"
        }
      },
      "outputs": [
        {
          "output_type": "execute_result",
          "data": {
            "text/plain": [
              "['Plumón',\n",
              " 'Computadora',\n",
              " 'Silla',\n",
              " 'Pizarra',\n",
              " 'Mesa',\n",
              " 'Proyector',\n",
              " 'PUPITRE',\n",
              " 'Proyector']"
            ]
          },
          "metadata": {},
          "execution_count": 25
        }
      ],
      "source": [
        "# Si hubiera varios elementos de valores iguales se elimina la primera coincidencia\n",
        "salon.remove(\"PUPITRE\")\n",
        "salon"
      ]
    },
    {
      "cell_type": "code",
      "source": [
        "# Elimanmos 'Proyector'       remove[]\n",
        "salon.remove(\"Proyector\")\n",
        "\n",
        "# Imprimimos\n",
        "print(\"La lista actualizada es: \")\n",
        "print(salon)"
      ],
      "metadata": {
        "colab": {
          "base_uri": "https://localhost:8080/"
        },
        "id": "3x1CH-Rwu4VC",
        "outputId": "1a28202a-44bd-481b-ffcf-5a286d86880b"
      },
      "execution_count": 26,
      "outputs": [
        {
          "output_type": "stream",
          "name": "stdout",
          "text": [
            "La lista actualizada es: \n",
            "['Plumón', 'Computadora', 'Silla', 'Pizarra', 'Mesa', 'PUPITRE', 'Proyector']\n"
          ]
        }
      ]
    },
    {
      "cell_type": "markdown",
      "source": [
        "      SABER LA CANTIDAD DE ELEMENTOS QUE TIENE LA LISTA"
      ],
      "metadata": {
        "id": "zgsYSWf1M2iG"
      }
    },
    {
      "cell_type": "code",
      "execution_count": 27,
      "metadata": {
        "id": "7eko4X770BaO",
        "outputId": "9e4e4ada-9de7-44ea-d07c-5a29f710ca56",
        "colab": {
          "base_uri": "https://localhost:8080/"
        }
      },
      "outputs": [
        {
          "output_type": "execute_result",
          "data": {
            "text/plain": [
              "7"
            ]
          },
          "metadata": {},
          "execution_count": 27
        }
      ],
      "source": [
        "# Para obtener el tamaño utilizamos len()\n",
        "\n",
        "# Imprimimos\n",
        "len(salon)"
      ]
    },
    {
      "cell_type": "markdown",
      "source": [
        "      IMPRIMIR EN COLUMNA (vertical) UNA LISTA   'for'"
      ],
      "metadata": {
        "id": "mecpzGeKM7nW"
      }
    },
    {
      "cell_type": "code",
      "execution_count": 28,
      "metadata": {
        "id": "lblOn4g20BaO",
        "outputId": "4662ffae-925f-40ef-a908-f918edd5771d",
        "colab": {
          "base_uri": "https://localhost:8080/"
        }
      },
      "outputs": [
        {
          "output_type": "stream",
          "name": "stdout",
          "text": [
            "Plumón\n",
            "Computadora\n",
            "Silla\n",
            "Pizarra\n",
            "Mesa\n",
            "PUPITRE\n",
            "Proyector\n"
          ]
        }
      ],
      "source": [
        "# Para recorrer podemos utilizar una estructura repetitiva\n",
        "for alumno in salon:\n",
        "    print(alumno)"
      ]
    },
    {
      "cell_type": "markdown",
      "source": [
        "INVERTIMOS LA LISTA .reverse()"
      ],
      "metadata": {
        "id": "rwvYotciFK4E"
      }
    },
    {
      "cell_type": "code",
      "execution_count": 29,
      "metadata": {
        "id": "2md_Hucx0BaP",
        "outputId": "c08dbd5b-db2c-4f87-f981-9db007508377",
        "colab": {
          "base_uri": "https://localhost:8080/"
        }
      },
      "outputs": [
        {
          "output_type": "stream",
          "name": "stdout",
          "text": [
            "Lista inicial: ['Plumón', 'Computadora', 'Silla', 'Pizarra', 'Mesa', 'Proyector']\n",
            "Lista Invertida:  ['Proyector', 'PUPITRE', 'Mesa', 'Pizarra', 'Silla', 'Computadora', 'Plumón']\n"
          ]
        }
      ],
      "source": [
        "# Para invertir la lista utilizamos reverse()\n",
        "# invertir NO significa ordenar en forma descendente sin invertir la lista\n",
        "\n",
        "salon.reverse()\n",
        "\n",
        "# Imprimimos\n",
        "\n",
        "print(\"Lista inicial: ['Plumón', 'Computadora', 'Silla', 'Pizarra', 'Mesa', 'Proyector']\")\n",
        "print(\"Lista Invertida: \" ,salon)"
      ]
    },
    {
      "cell_type": "markdown",
      "source": [
        "    ORDENAR LA LISTA .sort()\n",
        "\n",
        "      # En este caso ordena en forma alfabetica"
      ],
      "metadata": {
        "id": "6ouuPi9IGBWV"
      }
    },
    {
      "cell_type": "code",
      "execution_count": 30,
      "metadata": {
        "id": "IH5KSrqF0BaQ",
        "outputId": "b0daa81f-f22a-4ad3-a43b-adb1334432ae",
        "colab": {
          "base_uri": "https://localhost:8080/"
        }
      },
      "outputs": [
        {
          "output_type": "stream",
          "name": "stdout",
          "text": [
            "['Computadora', 'Mesa', 'PUPITRE', 'Pizarra', 'Plumón', 'Proyector', 'Silla']\n"
          ]
        }
      ],
      "source": [
        "# Parar ordenar una lista utilizamos sort()\n",
        "salon.sort()\n",
        "\n",
        "# Imprimimos\n",
        "print(salon)"
      ]
    },
    {
      "cell_type": "markdown",
      "source": [
        "      TUPLAS"
      ],
      "metadata": {
        "id": "y8r8PVx5GO7k"
      }
    },
    {
      "cell_type": "code",
      "execution_count": 31,
      "metadata": {
        "id": "pPYOyyBF0BaR",
        "outputId": "2b4c9499-a53d-4678-a718-592e5015c155",
        "colab": {
          "base_uri": "https://localhost:8080/"
        }
      },
      "outputs": [
        {
          "output_type": "stream",
          "name": "stdout",
          "text": [
            "La tupla creada es: \n",
            "('Azul', 'Verde', 'Morado', 'Celeste', 'Plomo')\n"
          ]
        }
      ],
      "source": [
        "# 1.2 Tuplas\n",
        "# Es una colección de elementos ordenada (Ordenado significa que tiene un índice) que no se pueden modificar, es inalterable.\n",
        "# No se pueden agregar elementos ni eliminar.\n",
        "# se identifica por los parentesis\n",
        "\n",
        "# Creamos una tupla\n",
        "tupla_colores = (\"Azul\",\"Verde\",\"Morado\",\"Celeste\",\"Plomo\")\n",
        "\n",
        "# Imprimimos la tupla creada\n",
        "print(\"La tupla creada es: \")\n",
        "print(tupla_colores)"
      ]
    },
    {
      "cell_type": "markdown",
      "source": [
        "      EXTRAER UN ELEMENTO DE UNA TUPLA"
      ],
      "metadata": {
        "id": "jM4_FDLhQ6UY"
      }
    },
    {
      "cell_type": "code",
      "execution_count": 32,
      "metadata": {
        "id": "es3649sF0BaS",
        "outputId": "a2827531-2c8e-4e7c-8197-20945a5254ea",
        "colab": {
          "base_uri": "https://localhost:8080/",
          "height": 53
        }
      },
      "outputs": [
        {
          "output_type": "stream",
          "name": "stdout",
          "text": [
            "La posición a mostrar es: \n"
          ]
        },
        {
          "output_type": "execute_result",
          "data": {
            "text/plain": [
              "'Celeste'"
            ],
            "application/vnd.google.colaboratory.intrinsic+json": {
              "type": "string"
            }
          },
          "metadata": {},
          "execution_count": 32
        }
      ],
      "source": [
        "# Se puede extraer un elemento por su posición\n",
        "# Siempre se empieza desde la posición 0\n",
        "\n",
        "# Escribimos un mensaje\n",
        "print(\"La posición a mostrar es: \")\n",
        "# Indicamos la posicion que queremos mostrar\n",
        "tupla_colores[3]      # Con esto ya lo estamos imprimiendo\n"
      ]
    },
    {
      "cell_type": "markdown",
      "source": [
        "      CANTIDAD DE ELEMENTOS DE UNA TUPLA"
      ],
      "metadata": {
        "id": "U_vvXA91QzTf"
      }
    },
    {
      "cell_type": "code",
      "execution_count": 33,
      "metadata": {
        "id": "9daWaeFU0BaT",
        "outputId": "a82fb43a-0db1-44f6-be19-5bb687baad38",
        "colab": {
          "base_uri": "https://localhost:8080/"
        }
      },
      "outputs": [
        {
          "output_type": "stream",
          "name": "stdout",
          "text": [
            "La cantidad de elementos que tiene la tupla es: \n"
          ]
        },
        {
          "output_type": "execute_result",
          "data": {
            "text/plain": [
              "5"
            ]
          },
          "metadata": {},
          "execution_count": 33
        }
      ],
      "source": [
        "# Para saber la cantidad de elementos de una tupla utilizamos len()\n",
        "\n",
        "print(\"La cantidad de elementos que tiene la tupla es: \")\n",
        "len(tupla_colores)"
      ]
    },
    {
      "cell_type": "markdown",
      "source": [
        "      CONJUNTOS"
      ],
      "metadata": {
        "id": "6cSwuRMeRChw"
      }
    },
    {
      "cell_type": "code",
      "execution_count": 57,
      "metadata": {
        "id": "-lpriioO0BaT",
        "outputId": "0461a694-1ba5-4425-c1f0-3e5ec7262ed5",
        "colab": {
          "base_uri": "https://localhost:8080/"
        }
      },
      "outputs": [
        {
          "output_type": "stream",
          "name": "stdout",
          "text": [
            "{'Celeste', 'Morado', 'Azul', 'Plomo', 'Verde'}\n"
          ]
        }
      ],
      "source": [
        "# 1.3 Conjuntos\n",
        "\n",
        "# Es una colección de elementos que no está ordenado\n",
        "\n",
        " # (Significa que no tiene un índice)\n",
        "conjunto_colores = {\"Azul\",\"Verde\",\"Morado\",\"Celeste\",\"Plomo\"}\n",
        "\n",
        "# Imprimimos\n",
        "print(conjunto_colores)"
      ]
    },
    {
      "cell_type": "code",
      "execution_count": 58,
      "metadata": {
        "id": "1P4FLx2X0BaU",
        "outputId": "40937473-3814-4877-8d4d-7f63b1190800",
        "colab": {
          "base_uri": "https://localhost:8080/"
        }
      },
      "outputs": [
        {
          "output_type": "stream",
          "name": "stdout",
          "text": [
            "Celeste\n",
            "Morado\n",
            "Azul\n",
            "Plomo\n",
            "Verde\n"
          ]
        }
      ],
      "source": [
        "# Se puede recorrer utilizando una estructura repetitiva\n",
        "# Ejemplo: for\n",
        "for alumno in conjunto_colores:\n",
        "    print(alumno)"
      ]
    },
    {
      "cell_type": "code",
      "execution_count": 59,
      "metadata": {
        "id": "ovlXKtYQ0BaV"
      },
      "outputs": [],
      "source": [
        "# Observación: No se puede acceder por posición pues no considera indexación\n",
        "# Por ejemplo:\n",
        "# conjunto_aula[2] devolvería un mensaje de error"
      ]
    },
    {
      "cell_type": "markdown",
      "source": [
        "    CANTIDAD DE ELEMENTOS DE UN CONJUNTO"
      ],
      "metadata": {
        "id": "wcNwYQ3HMAEl"
      }
    },
    {
      "cell_type": "code",
      "execution_count": 60,
      "metadata": {
        "id": "QMetSMgQ0BaV",
        "outputId": "40342be3-ee03-42d2-ee38-9ace4fa119ad",
        "colab": {
          "base_uri": "https://localhost:8080/"
        }
      },
      "outputs": [
        {
          "output_type": "stream",
          "name": "stdout",
          "text": [
            "La cantidad de elementos que tiene esta tupla es: \n"
          ]
        },
        {
          "output_type": "execute_result",
          "data": {
            "text/plain": [
              "5"
            ]
          },
          "metadata": {},
          "execution_count": 60
        }
      ],
      "source": [
        "# Para saber la cantidad de elementos utilizamos len()\n",
        "\n",
        "print(\"La cantidad de elementos que tiene esta tupla es: \")\n",
        "len(conjunto_colores)"
      ]
    },
    {
      "cell_type": "markdown",
      "source": [
        "    AGREGAR ELEMENTOS AL CONJUNTO\n",
        "\n",
        "\n"
      ],
      "metadata": {
        "id": "FKbVpj8iL8CT"
      }
    },
    {
      "cell_type": "code",
      "execution_count": 61,
      "metadata": {
        "id": "CzGMqrMj0BaW",
        "outputId": "1f31293b-b2aa-426b-e5fc-416315682ee7",
        "colab": {
          "base_uri": "https://localhost:8080/"
        }
      },
      "outputs": [
        {
          "output_type": "execute_result",
          "data": {
            "text/plain": [
              "{'Azul', 'Celeste', 'Marrón', 'Morado', 'Plomo', 'Verde'}"
            ]
          },
          "metadata": {},
          "execution_count": 61
        }
      ],
      "source": [
        "# Para agregar utilizamos la función add()\n",
        "\n",
        "# Agregamos el color MARRON\n",
        "\n",
        "conjunto_colores.add(\"Marrón\")\n",
        "\n",
        "# Imprimimos el CONJUNTO\n",
        "conjunto_colores"
      ]
    },
    {
      "cell_type": "markdown",
      "source": [
        "ELIMAR ELEMENTOS AL CONJUNTO"
      ],
      "metadata": {
        "id": "4-6VuGbSMTMn"
      }
    },
    {
      "cell_type": "code",
      "execution_count": 62,
      "metadata": {
        "id": "HuAaBvF_0BaW",
        "outputId": "bfa9f6fd-7fd7-4791-f378-e6f728353156",
        "colab": {
          "base_uri": "https://localhost:8080/"
        }
      },
      "outputs": [
        {
          "output_type": "execute_result",
          "data": {
            "text/plain": [
              "{'Azul', 'Celeste', 'Morado', 'Plomo', 'Verde'}"
            ]
          },
          "metadata": {},
          "execution_count": 62
        }
      ],
      "source": [
        "# Parar eliminar elementos utilizamos la función remove()\n",
        "conjunto_colores.remove(\"Marrón\")\n",
        "\n",
        "# Imprimimos el CONJUNTO\n",
        "conjunto_colores"
      ]
    },
    {
      "cell_type": "markdown",
      "source": [
        "      DICCIONARIOS"
      ],
      "metadata": {
        "id": "CxrS7zOOTSIL"
      }
    },
    {
      "cell_type": "code",
      "source": [
        "# 1.4. Diccionarios\n",
        "# Es una colección de elementos, que están indexados,\n",
        "# no estan ordenados y se pueden modificar\n",
        "# Son escritos entre llaves y están formados por pares de elementos\n",
        "\n",
        "#  INDICE:VALOR\n",
        "\n",
        "#  Creamos un diccionario\n",
        "\n",
        "diccionario_puesto = {'1':'Gerente', '3':'Supervisor','cuatro':'Secretaria','dos':\"Contador\",\"cero\":'Obrero'}\n",
        "\n",
        "# Imprimimos de manera HORIZONTAL\n",
        "print(diccionario_puesto)\n",
        "print(\"--------------------------------------------------------------------------------------------------\")\n",
        "# Imprimimos de manera vertical\n",
        "diccionario_puesto"
      ],
      "metadata": {
        "colab": {
          "base_uri": "https://localhost:8080/"
        },
        "id": "ww_eCkUrTfLb",
        "outputId": "b9e79a9f-9e5a-460f-cbe7-53e1e3ff6db1"
      },
      "execution_count": 78,
      "outputs": [
        {
          "output_type": "stream",
          "name": "stdout",
          "text": [
            "{'1': 'Gerente', '3': 'Supervisor', 'cuatro': 'Secretaria', 'dos': 'Contador', 'cero': 'Obrero'}\n",
            "--------------------------------------------------------------------------------------------------\n"
          ]
        },
        {
          "output_type": "execute_result",
          "data": {
            "text/plain": [
              "{'1': 'Gerente',\n",
              " '3': 'Supervisor',\n",
              " 'cuatro': 'Secretaria',\n",
              " 'dos': 'Contador',\n",
              " 'cero': 'Obrero'}"
            ]
          },
          "metadata": {},
          "execution_count": 78
        }
      ]
    },
    {
      "cell_type": "code",
      "execution_count": 79,
      "metadata": {
        "id": "P6VRbp5C0BaY",
        "outputId": "fdc408a2-27f3-4e49-f3ac-1a42f70cb2a8",
        "colab": {
          "base_uri": "https://localhost:8080/",
          "height": 211
        }
      },
      "outputs": [
        {
          "output_type": "error",
          "ename": "KeyError",
          "evalue": "'0'",
          "traceback": [
            "\u001b[0;31m---------------------------------------------------------------------------\u001b[0m",
            "\u001b[0;31mKeyError\u001b[0m                                  Traceback (most recent call last)",
            "\u001b[0;32m<ipython-input-79-1c83bafbdc2c>\u001b[0m in \u001b[0;36m<cell line: 2>\u001b[0;34m()\u001b[0m\n\u001b[1;32m      1\u001b[0m \u001b[0;31m# Del Diccionario: diccionario_puesto extraer el valor cuyo índice sea cero en String:\u001b[0m\u001b[0;34m\u001b[0m\u001b[0;34m\u001b[0m\u001b[0m\n\u001b[0;32m----> 2\u001b[0;31m \u001b[0mdiccionario_puesto\u001b[0m\u001b[0;34m[\u001b[0m\u001b[0;34m'0'\u001b[0m\u001b[0;34m]\u001b[0m \u001b[0;31m# Indicamos el indice que pusimos, si es con número\u001b[0m\u001b[0;34m\u001b[0m\u001b[0;34m\u001b[0m\u001b[0m\n\u001b[0m\u001b[1;32m      3\u001b[0m                         \u001b[0;31m# Lo colocamos con número, si es con letra lo colocamos\u001b[0m\u001b[0;34m\u001b[0m\u001b[0;34m\u001b[0m\u001b[0m\n\u001b[1;32m      4\u001b[0m                         \u001b[0;31m# con las letras, en esta caso nos sale error, porque\u001b[0m\u001b[0;34m\u001b[0m\u001b[0;34m\u001b[0m\u001b[0m\n\u001b[1;32m      5\u001b[0m                         \u001b[0;31m# cero no esta definido con letras, sino con número\u001b[0m\u001b[0;34m\u001b[0m\u001b[0;34m\u001b[0m\u001b[0m\n",
            "\u001b[0;31mKeyError\u001b[0m: '0'"
          ]
        }
      ],
      "source": [
        "# Del Diccionario: diccionario_puesto extraer el valor cuyo índice sea cero en String:\n",
        "diccionario_puesto['0'] # Indicamos el indice que pusimos, si es con número\n",
        "                        # Lo colocamos con número, si es con letra lo colocamos\n",
        "                        # con las letras, en esta caso nos sale error, porque\n",
        "                        # cero no esta definido con letras, sino con número"
      ]
    },
    {
      "cell_type": "code",
      "source": [
        "# Del Diccionario: diccionario_puesto extraer el valor cuyo índice sea cero en String:\n",
        "diccionario_puesto[\"cuatro\"] # Indicamos el indice que pusimos, si es con número\n",
        "                        # Lo colocamos con número, si es con letra lo colocamos\n",
        "                        # con las letras, en esta caso nos sale error, porque\n",
        "                        # cero no esta definido con letras, sino con número"
      ],
      "metadata": {
        "colab": {
          "base_uri": "https://localhost:8080/",
          "height": 36
        },
        "id": "RmcxtKhLvb2B",
        "outputId": "8bd8e443-04db-4f2b-edbf-0cdb28e668fa"
      },
      "execution_count": 80,
      "outputs": [
        {
          "output_type": "execute_result",
          "data": {
            "text/plain": [
              "'Secretaria'"
            ],
            "application/vnd.google.colaboratory.intrinsic+json": {
              "type": "string"
            }
          },
          "metadata": {},
          "execution_count": 80
        }
      ]
    },
    {
      "cell_type": "code",
      "execution_count": 82,
      "metadata": {
        "id": "R0Da-LNy0BaY",
        "outputId": "a46ea9d8-8017-45ab-fbaf-9aa90afd5731",
        "colab": {
          "base_uri": "https://localhost:8080/",
          "height": 36
        }
      },
      "outputs": [
        {
          "output_type": "execute_result",
          "data": {
            "text/plain": [
              "'Obrero'"
            ],
            "application/vnd.google.colaboratory.intrinsic+json": {
              "type": "string"
            }
          },
          "metadata": {},
          "execution_count": 82
        }
      ],
      "source": [
        "# Si es con letra se coloca la letra (String) y en COMILLAS\n",
        "\n",
        "# Imprimimos el indice 'cero'\n",
        "diccionario_puesto['cero']"
      ]
    },
    {
      "cell_type": "code",
      "execution_count": 83,
      "metadata": {
        "id": "eGsHEekp0BaZ",
        "outputId": "fb192374-0b95-4640-af38-abc7ba264706",
        "colab": {
          "base_uri": "https://localhost:8080/",
          "height": 36
        }
      },
      "outputs": [
        {
          "output_type": "execute_result",
          "data": {
            "text/plain": [
              "'Gerente'"
            ],
            "application/vnd.google.colaboratory.intrinsic+json": {
              "type": "string"
            }
          },
          "metadata": {},
          "execution_count": 83
        }
      ],
      "source": [
        "# Si es con número, se coloca el número tal cual asignamos al indice\n",
        "# diccionario_puesto = {'1':'Gerente', '3':'Supervisor',\n",
        "#                        'cuatro':'Secretaria','dos':\"Contador\",\"cero\":'Obrero'}\n",
        "\n",
        "# En este caso pusimos al número 1 en comillas, por lo tanto lo imprimimos en comillas\n",
        "\n",
        "# Imprimimos\n",
        "diccionario_puesto[\"1\"]"
      ]
    },
    {
      "cell_type": "code",
      "execution_count": 84,
      "metadata": {
        "id": "7cP1dMYi0BaZ",
        "outputId": "e9ac66fa-a5b1-4859-80bc-2574faf5fced",
        "colab": {
          "base_uri": "https://localhost:8080/",
          "height": 36
        }
      },
      "outputs": [
        {
          "output_type": "execute_result",
          "data": {
            "text/plain": [
              "'Contador'"
            ],
            "application/vnd.google.colaboratory.intrinsic+json": {
              "type": "string"
            }
          },
          "metadata": {},
          "execution_count": 84
        }
      ],
      "source": [
        "# Si es con número, se coloca el número tal cual asignamos al indice\n",
        "# diccionario_puesto = {'1':'Gerente', '3':'Supervisor',\n",
        "#                        'cuatro':'Secretaria','dos':\"Contador\",\"cero\":'Obrero'}\n",
        "\n",
        "# En este caso pusimos DOS en comillas, por lo tanto lo imprimimos en comillas\n",
        "\n",
        "# Imprimimos\n",
        "diccionario_puesto[\"dos\"]"
      ]
    },
    {
      "cell_type": "markdown",
      "source": [
        "      AÑADIR ELEMENTOS AL DICCIONARIO"
      ],
      "metadata": {
        "id": "jxQgXHL2XfdY"
      }
    },
    {
      "cell_type": "code",
      "execution_count": 85,
      "metadata": {
        "id": "rEnwoQKX0Baa",
        "outputId": "60ac7947-7c4c-4f3e-92ee-f353e622b507",
        "colab": {
          "base_uri": "https://localhost:8080/"
        }
      },
      "outputs": [
        {
          "output_type": "stream",
          "name": "stdout",
          "text": [
            "El diccionario actualizado es: \n"
          ]
        },
        {
          "output_type": "execute_result",
          "data": {
            "text/plain": [
              "{'1': 'Gerente',\n",
              " '3': 'Supervisor',\n",
              " 'cuatro': 'Secretaria',\n",
              " 'dos': 'Contador',\n",
              " 'cero': 'Obrero',\n",
              " 20: 'Portero'}"
            ]
          },
          "metadata": {},
          "execution_count": 85
        }
      ],
      "source": [
        "# Para añadir un par de elementos al diccionario hacemos:\n",
        "\n",
        "# Indicamos el diccionario que hemos creado\n",
        "\n",
        "diccionario_puesto[20]='Portero'\n",
        "\n",
        "# Imprimimos el diccionario\n",
        "print(\"El diccionario actualizado es: \")\n",
        "diccionario_puesto          # IMPRIME DE FORZA VERTICAL SIN EL print()"
      ]
    },
    {
      "cell_type": "markdown",
      "source": [
        "      ELIMINAR UN ELEMENTO DEL DICCIONARIO   pop()"
      ],
      "metadata": {
        "id": "rKLlJtF6ZHMz"
      }
    },
    {
      "cell_type": "code",
      "execution_count": 86,
      "metadata": {
        "id": "pdxbDZtp0Baa",
        "outputId": "cc12b5f0-a697-4d9e-d34a-a2c86027aa00",
        "colab": {
          "base_uri": "https://localhost:8080/"
        }
      },
      "outputs": [
        {
          "output_type": "stream",
          "name": "stdout",
          "text": [
            "{'1': 'Gerente', '3': 'Supervisor', 'cuatro': 'Secretaria', 'cero': 'Obrero', 20: 'Portero'}\n"
          ]
        }
      ],
      "source": [
        "# Para eliminar un valor se utiliza pop()\n",
        "# Por ejemplo,eliminar el elemento de índice dos.\n",
        "# ejemplo: Para eliminar a CONTADOR que tendríamos que hacer:\n",
        "\n",
        "# Indicamos El Indice a eliminar\n",
        "\n",
        "# Como el contador tiene el indice 'dos'\n",
        "# Colocamos el valor DEL INDICE que creamos en el diccionario\n",
        "diccionario_puesto.pop('dos')\n",
        "\n",
        "# Imprimimos el diccionario\n",
        "print(diccionario_puesto)"
      ]
    },
    {
      "cell_type": "markdown",
      "source": [
        "      OTRA FORMA DE ELIMINAR USANDO EL MÉTODO  pop()"
      ],
      "metadata": {
        "id": "LgXGDtlVcZSi"
      }
    },
    {
      "cell_type": "code",
      "source": [
        "# ejemplo: Para eliminar a SUPERVISOR que tendríamos que hacer:\n",
        "\n",
        "# Indicamos EL INDICE  a eliminar\n",
        "\n",
        "# Como el SUPERVISOR tiene el indice --> 3 <--\n",
        "# Colocamos el valor DEL INDICE que creamos en el diccionario\n",
        "elemento_eliminado = diccionario_puesto.pop('3')     # Lo colocamos con comillas, porque\n",
        "                                                     # Asi esta en el diccionario\n",
        "\n",
        "# Imprimimos el diccionario\n",
        "print('El elemento eliminado es: ' , elemento_eliminado)\n",
        "\n",
        "# Imprimimos el diccionario actualizado\n",
        "print(\"Diccionario actualizado: \" , diccionario_puesto)"
      ],
      "metadata": {
        "colab": {
          "base_uri": "https://localhost:8080/"
        },
        "id": "zeBjxNfzcjUt",
        "outputId": "91922bf1-418f-42d5-c5b5-52b623d0d22a"
      },
      "execution_count": 87,
      "outputs": [
        {
          "output_type": "stream",
          "name": "stdout",
          "text": [
            "El elemento eliminado es:  Supervisor\n",
            "Diccionario actualizado:  {'1': 'Gerente', 'cuatro': 'Secretaria', 'cero': 'Obrero', 20: 'Portero'}\n"
          ]
        }
      ]
    },
    {
      "cell_type": "markdown",
      "source": [
        "ELIMINAR UN ELEMENTO DEL DICCIONARIO   del()"
      ],
      "metadata": {
        "id": "uurGE-_srolq"
      }
    },
    {
      "cell_type": "code",
      "execution_count": 88,
      "metadata": {
        "id": "fwKZxftM0Bab",
        "outputId": "719ec278-eeff-4f33-d53d-cc2ec8399871",
        "colab": {
          "base_uri": "https://localhost:8080/"
        }
      },
      "outputs": [
        {
          "output_type": "stream",
          "name": "stdout",
          "text": [
            "Diccionario actualizado:  {'1': 'Gerente', 'cuatro': 'Secretaria', 'cero': 'Obrero', 20: 'Portero'}\n"
          ]
        },
        {
          "output_type": "execute_result",
          "data": {
            "text/plain": [
              "{'1': 'Gerente', 'cuatro': 'Secretaria', 20: 'Portero'}"
            ]
          },
          "metadata": {},
          "execution_count": 88
        }
      ],
      "source": [
        "# Tambien se puede eliminar utilizando del()\n",
        "\n",
        "# Mostramos el diccionario creado\n",
        "# diccionario_puesto = {'1':'Gerente', '3':'Supervisor','cuatro':'Secretaria','dos':\"Contador\",\"cero\":'Obrero'}\n",
        "print(\"Diccionario actualizado:  {'1': 'Gerente', 'cuatro': 'Secretaria', 'cero': 'Obrero', 20: 'Portero'}\")\n",
        "\n",
        "# Eliminamos a 'Obrero'\n",
        "del(diccionario_puesto[\"cero\"])\n",
        "diccionario_puesto"
      ]
    },
    {
      "cell_type": "code",
      "source": [
        "# Tambien se puede eliminar utilizando del()\n",
        "\n",
        "# Mostramos el diccionario creado\n",
        "# diccionario_puesto = {'1':'Gerente', '3':'Supervisor','cuatro':'Secretaria','dos':\"Contador\",\"cero\":'Obrero'}\n",
        "print(\"Diccionario actualizado:  {'1': 'Gerente', 'cuatro': 'Secretaria', 20: 'Portero'}\")\n",
        "\n",
        "# Eliminamos a 'Portero'\n",
        "del(diccionario_puesto['1'])\n",
        "diccionario_puesto"
      ],
      "metadata": {
        "colab": {
          "base_uri": "https://localhost:8080/"
        },
        "id": "D5kXHcjwwCiQ",
        "outputId": "cd05a8c0-1cb8-46ed-b760-654a0d1b711a"
      },
      "execution_count": 89,
      "outputs": [
        {
          "output_type": "stream",
          "name": "stdout",
          "text": [
            "Diccionario actualizado:  {'1': 'Gerente', 'cuatro': 'Secretaria', 20: 'Portero'}\n"
          ]
        },
        {
          "output_type": "execute_result",
          "data": {
            "text/plain": [
              "{'cuatro': 'Secretaria', 20: 'Portero'}"
            ]
          },
          "metadata": {},
          "execution_count": 89
        }
      ]
    },
    {
      "cell_type": "code",
      "execution_count": 90,
      "metadata": {
        "id": "RdxKlkM80Bab",
        "outputId": "a55d414f-52f6-4a7f-bb04-967a9a4f5196",
        "colab": {
          "base_uri": "https://localhost:8080/"
        }
      },
      "outputs": [
        {
          "output_type": "stream",
          "name": "stdout",
          "text": [
            "cuatro\n",
            "20\n"
          ]
        }
      ],
      "source": [
        "# Para recorrer todos los elementos podemos utilizar for\n",
        "# En este ejemplo devuelve los índices\n",
        "for indice in diccionario_puesto:\n",
        "    print(indice)"
      ]
    },
    {
      "cell_type": "code",
      "execution_count": 91,
      "metadata": {
        "id": "GGlf25Wn0Bac",
        "outputId": "11bc63f0-86da-4abf-d964-297adf84afb9",
        "colab": {
          "base_uri": "https://localhost:8080/"
        }
      },
      "outputs": [
        {
          "output_type": "stream",
          "name": "stdout",
          "text": [
            "cuatro Secretaria\n",
            "20 Portero\n"
          ]
        }
      ],
      "source": [
        "# Para obtener el indice y el valor de cada elemento utilizamos items()\n",
        "for indice, valor in diccionario_puesto.items():\n",
        "    print(indice, valor)"
      ]
    }
  ],
  "metadata": {
    "kernelspec": {
      "display_name": "Python 3",
      "language": "python",
      "name": "python3"
    },
    "language_info": {
      "codemirror_mode": {
        "name": "ipython",
        "version": 3
      },
      "file_extension": ".py",
      "mimetype": "text/x-python",
      "name": "python",
      "nbconvert_exporter": "python",
      "pygments_lexer": "ipython3",
      "version": "3.7.6"
    },
    "colab": {
      "provenance": []
    }
  },
  "nbformat": 4,
  "nbformat_minor": 0
}